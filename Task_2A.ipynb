{
  "nbformat": 4,
  "nbformat_minor": 0,
  "metadata": {
    "colab": {
      "provenance": []
    },
    "kernelspec": {
      "name": "python3",
      "display_name": "Python 3"
    },
    "language_info": {
      "name": "python"
    }
  },
  "cells": [
    {
      "cell_type": "code",
      "source": [
        "!pip install qiskit\n",
        "!pip install pylatexenc\n",
        "!pip install qiskit_aer"
      ],
      "metadata": {
        "colab": {
          "base_uri": "https://localhost:8080/"
        },
        "id": "xo3t69BmuNoG",
        "outputId": "03ddabef-562e-4794-e028-c2836b239fe8",
        "collapsed": true
      },
      "execution_count": 1,
      "outputs": [
        {
          "output_type": "stream",
          "name": "stdout",
          "text": [
            "Collecting qiskit\n",
            "  Downloading qiskit-1.2.4-cp38-abi3-manylinux_2_17_x86_64.manylinux2014_x86_64.whl.metadata (12 kB)\n",
            "Collecting rustworkx>=0.15.0 (from qiskit)\n",
            "  Downloading rustworkx-0.15.1-cp38-abi3-manylinux_2_17_x86_64.manylinux2014_x86_64.whl.metadata (9.9 kB)\n",
            "Requirement already satisfied: numpy<3,>=1.17 in /usr/local/lib/python3.10/dist-packages (from qiskit) (1.26.4)\n",
            "Requirement already satisfied: scipy>=1.5 in /usr/local/lib/python3.10/dist-packages (from qiskit) (1.13.1)\n",
            "Requirement already satisfied: sympy>=1.3 in /usr/local/lib/python3.10/dist-packages (from qiskit) (1.13.1)\n",
            "Collecting dill>=0.3 (from qiskit)\n",
            "  Downloading dill-0.3.9-py3-none-any.whl.metadata (10 kB)\n",
            "Requirement already satisfied: python-dateutil>=2.8.0 in /usr/local/lib/python3.10/dist-packages (from qiskit) (2.8.2)\n",
            "Collecting stevedore>=3.0.0 (from qiskit)\n",
            "  Downloading stevedore-5.3.0-py3-none-any.whl.metadata (2.3 kB)\n",
            "Requirement already satisfied: typing-extensions in /usr/local/lib/python3.10/dist-packages (from qiskit) (4.12.2)\n",
            "Collecting symengine<0.14,>=0.11 (from qiskit)\n",
            "  Downloading symengine-0.13.0-cp310-cp310-manylinux_2_17_x86_64.manylinux2014_x86_64.whl.metadata (1.2 kB)\n",
            "Requirement already satisfied: six>=1.5 in /usr/local/lib/python3.10/dist-packages (from python-dateutil>=2.8.0->qiskit) (1.16.0)\n",
            "Collecting pbr>=2.0.0 (from stevedore>=3.0.0->qiskit)\n",
            "  Downloading pbr-6.1.0-py2.py3-none-any.whl.metadata (3.4 kB)\n",
            "Requirement already satisfied: mpmath<1.4,>=1.1.0 in /usr/local/lib/python3.10/dist-packages (from sympy>=1.3->qiskit) (1.3.0)\n",
            "Downloading qiskit-1.2.4-cp38-abi3-manylinux_2_17_x86_64.manylinux2014_x86_64.whl (4.8 MB)\n",
            "\u001b[2K   \u001b[90m━━━━━━━━━━━━━━━━━━━━━━━━━━━━━━━━━━━━━━━━\u001b[0m \u001b[32m4.8/4.8 MB\u001b[0m \u001b[31m30.4 MB/s\u001b[0m eta \u001b[36m0:00:00\u001b[0m\n",
            "\u001b[?25hDownloading dill-0.3.9-py3-none-any.whl (119 kB)\n",
            "\u001b[2K   \u001b[90m━━━━━━━━━━━━━━━━━━━━━━━━━━━━━━━━━━━━━━━━\u001b[0m \u001b[32m119.4/119.4 kB\u001b[0m \u001b[31m6.1 MB/s\u001b[0m eta \u001b[36m0:00:00\u001b[0m\n",
            "\u001b[?25hDownloading rustworkx-0.15.1-cp38-abi3-manylinux_2_17_x86_64.manylinux2014_x86_64.whl (2.0 MB)\n",
            "\u001b[2K   \u001b[90m━━━━━━━━━━━━━━━━━━━━━━━━━━━━━━━━━━━━━━━━\u001b[0m \u001b[32m2.0/2.0 MB\u001b[0m \u001b[31m36.4 MB/s\u001b[0m eta \u001b[36m0:00:00\u001b[0m\n",
            "\u001b[?25hDownloading stevedore-5.3.0-py3-none-any.whl (49 kB)\n",
            "\u001b[2K   \u001b[90m━━━━━━━━━━━━━━━━━━━━━━━━━━━━━━━━━━━━━━━━\u001b[0m \u001b[32m49.7/49.7 kB\u001b[0m \u001b[31m2.4 MB/s\u001b[0m eta \u001b[36m0:00:00\u001b[0m\n",
            "\u001b[?25hDownloading symengine-0.13.0-cp310-cp310-manylinux_2_17_x86_64.manylinux2014_x86_64.whl (49.7 MB)\n",
            "\u001b[2K   \u001b[90m━━━━━━━━━━━━━━━━━━━━━━━━━━━━━━━━━━━━━━━━\u001b[0m \u001b[32m49.7/49.7 MB\u001b[0m \u001b[31m7.6 MB/s\u001b[0m eta \u001b[36m0:00:00\u001b[0m\n",
            "\u001b[?25hDownloading pbr-6.1.0-py2.py3-none-any.whl (108 kB)\n",
            "\u001b[2K   \u001b[90m━━━━━━━━━━━━━━━━━━━━━━━━━━━━━━━━━━━━━━━━\u001b[0m \u001b[32m108.5/108.5 kB\u001b[0m \u001b[31m3.4 MB/s\u001b[0m eta \u001b[36m0:00:00\u001b[0m\n",
            "\u001b[?25hInstalling collected packages: symengine, rustworkx, pbr, dill, stevedore, qiskit\n",
            "Successfully installed dill-0.3.9 pbr-6.1.0 qiskit-1.2.4 rustworkx-0.15.1 stevedore-5.3.0 symengine-0.13.0\n",
            "Collecting pylatexenc\n",
            "  Downloading pylatexenc-2.10.tar.gz (162 kB)\n",
            "\u001b[2K     \u001b[90m━━━━━━━━━━━━━━━━━━━━━━━━━━━━━━━━━━━━━━━━\u001b[0m \u001b[32m162.6/162.6 kB\u001b[0m \u001b[31m2.6 MB/s\u001b[0m eta \u001b[36m0:00:00\u001b[0m\n",
            "\u001b[?25h  Preparing metadata (setup.py) ... \u001b[?25l\u001b[?25hdone\n",
            "Building wheels for collected packages: pylatexenc\n",
            "  Building wheel for pylatexenc (setup.py) ... \u001b[?25l\u001b[?25hdone\n",
            "  Created wheel for pylatexenc: filename=pylatexenc-2.10-py3-none-any.whl size=136816 sha256=2465c18f7c7010e682153cb1c9e13838ffe030300a330ecd6654b1b3e69bf4ae\n",
            "  Stored in directory: /root/.cache/pip/wheels/d3/31/8b/e09b0386afd80cfc556c00408c9aeea5c35c4d484a9c762fd5\n",
            "Successfully built pylatexenc\n",
            "Installing collected packages: pylatexenc\n",
            "Successfully installed pylatexenc-2.10\n",
            "Collecting qiskit_aer\n",
            "  Downloading qiskit_aer-0.15.1-cp310-cp310-manylinux_2_17_x86_64.manylinux2014_x86_64.whl.metadata (8.0 kB)\n",
            "Requirement already satisfied: qiskit>=1.1.0 in /usr/local/lib/python3.10/dist-packages (from qiskit_aer) (1.2.4)\n",
            "Requirement already satisfied: numpy>=1.16.3 in /usr/local/lib/python3.10/dist-packages (from qiskit_aer) (1.26.4)\n",
            "Requirement already satisfied: scipy>=1.0 in /usr/local/lib/python3.10/dist-packages (from qiskit_aer) (1.13.1)\n",
            "Requirement already satisfied: psutil>=5 in /usr/local/lib/python3.10/dist-packages (from qiskit_aer) (5.9.5)\n",
            "Requirement already satisfied: rustworkx>=0.15.0 in /usr/local/lib/python3.10/dist-packages (from qiskit>=1.1.0->qiskit_aer) (0.15.1)\n",
            "Requirement already satisfied: sympy>=1.3 in /usr/local/lib/python3.10/dist-packages (from qiskit>=1.1.0->qiskit_aer) (1.13.1)\n",
            "Requirement already satisfied: dill>=0.3 in /usr/local/lib/python3.10/dist-packages (from qiskit>=1.1.0->qiskit_aer) (0.3.9)\n",
            "Requirement already satisfied: python-dateutil>=2.8.0 in /usr/local/lib/python3.10/dist-packages (from qiskit>=1.1.0->qiskit_aer) (2.8.2)\n",
            "Requirement already satisfied: stevedore>=3.0.0 in /usr/local/lib/python3.10/dist-packages (from qiskit>=1.1.0->qiskit_aer) (5.3.0)\n",
            "Requirement already satisfied: typing-extensions in /usr/local/lib/python3.10/dist-packages (from qiskit>=1.1.0->qiskit_aer) (4.12.2)\n",
            "Requirement already satisfied: symengine<0.14,>=0.11 in /usr/local/lib/python3.10/dist-packages (from qiskit>=1.1.0->qiskit_aer) (0.13.0)\n",
            "Requirement already satisfied: six>=1.5 in /usr/local/lib/python3.10/dist-packages (from python-dateutil>=2.8.0->qiskit>=1.1.0->qiskit_aer) (1.16.0)\n",
            "Requirement already satisfied: pbr>=2.0.0 in /usr/local/lib/python3.10/dist-packages (from stevedore>=3.0.0->qiskit>=1.1.0->qiskit_aer) (6.1.0)\n",
            "Requirement already satisfied: mpmath<1.4,>=1.1.0 in /usr/local/lib/python3.10/dist-packages (from sympy>=1.3->qiskit>=1.1.0->qiskit_aer) (1.3.0)\n",
            "Downloading qiskit_aer-0.15.1-cp310-cp310-manylinux_2_17_x86_64.manylinux2014_x86_64.whl (12.3 MB)\n",
            "\u001b[2K   \u001b[90m━━━━━━━━━━━━━━━━━━━━━━━━━━━━━━━━━━━━━━━━\u001b[0m \u001b[32m12.3/12.3 MB\u001b[0m \u001b[31m71.8 MB/s\u001b[0m eta \u001b[36m0:00:00\u001b[0m\n",
            "\u001b[?25hInstalling collected packages: qiskit_aer\n",
            "Successfully installed qiskit_aer-0.15.1\n"
          ]
        }
      ]
    },
    {
      "cell_type": "markdown",
      "source": [
        "#Description:\n",
        "    -----------\n",
        "    - The function first defines Pauli errors for one-qubit gates and two-qubit gates based on the input\n",
        "      probabilities `alpha` and `beta`.\n",
        "    - The one-qubit Pauli noise `error_1q` is a probabilistic combination of X, Y, and Z operators on\n",
        "      single qubits, while the two-qubit Pauli noise `error_2q` applies X, Y, and Z operators on each qubit in\n",
        "      a two-qubit gate.\n",
        "    - These Pauli errors are then added to a NoiseModel instance (`noise_model`) that targets all qubits in the\n",
        "      circuit and applies noise to the specified gate types.\n",
        "    - A noisy simulator backend (`sim_noise`) is created using `AerSimulator`, loaded with the constructed noise model.\n",
        "    - Finally, the circuit is transpiled for compatibility with the noisy backend using an optimization pass manager\n",
        "      set to level 3 for efficient simulation."
      ],
      "metadata": {
        "id": "xwO47SyVmXSE"
      }
    },
    {
      "cell_type": "code",
      "source": [
        "import numpy as np\n",
        "from qiskit import QuantumCircuit\n",
        "from qiskit.visualization import plot_histogram\n",
        "from qiskit.transpiler.preset_passmanagers import generate_preset_pass_manager\n",
        "from qiskit_aer import AerSimulator\n",
        "\n",
        "# Import from Qiskit Aer noise module\n",
        "from qiskit_aer.noise import (\n",
        "    NoiseModel,\n",
        "    pauli_error,\n",
        ")"
      ],
      "metadata": {
        "id": "_uVyb5GpX1gp"
      },
      "execution_count": 16,
      "outputs": []
    },
    {
      "cell_type": "markdown",
      "source": [
        "## add_pauli_noise:\n",
        "Adds Pauli noise to a quantum circuit based on given probabilities for one-qubit and two-qubit gates. \\\\\n",
        "This function applies random Pauli operators (X, Y, Z) to the qubits in the circuit after each one-qubit and two-qubit gate, using the probabilities `alpha` and `beta`, respectively.\n",
        "\n",
        "    Parameters:\n",
        "    ----------\n",
        "    alpha : float\n",
        "        Probability of applying a random Pauli operator (X, Y, Z) on a qubit after a one-qubit gate.\n",
        "        Should be between 0 and 1, where 0 means no noise and 1 means always applying noise.\n",
        "    \n",
        "    beta : float\n",
        "        Probability of applying a random Pauli operator (X, Y, Z) on both qubits after a two-qubit gate.\n",
        "        Should be between 0 and 1, where 0 means no noise and 1 means always applying noise.\n",
        "    \n",
        "    circuit : QuantumCircuit\n",
        "        The quantum circuit to which noise will be added. This circuit should be defined prior to\n",
        "        calling this function and passed as an input.\n",
        "\n",
        "    Returns:\n",
        "    -------\n",
        "    circ_tnoise : QuantumCircuit\n",
        "        The transpiled circuit with noise applied, ready to be simulated on a noisy backend.\n",
        "\n",
        "    sim_noise : AerSimulator\n",
        "        A Qiskit Aer simulator backend configured with the noise model specified by `alpha` and `beta`.\n",
        "\n",
        "    Notes:\n",
        "    ------\n",
        "    - This function supports only single- and two-qubit gate noise.\n",
        "    - Ensure that the input probabilities `alpha` and `beta` are within the [0, 1] range.\n",
        "    \"\"\""
      ],
      "metadata": {
        "id": "VvbRL_F-mFpk"
      }
    },
    {
      "cell_type": "code",
      "source": [
        "\n",
        "def add_pauli_noise(alpha, beta, circuit):\n",
        "    \"\"\"Add Pauli noise to a given circuit using probabilities alpha and beta.\"\"\"\n",
        "    noise_model = NoiseModel()\n",
        "\n",
        "    # Define Pauli errors for one and two-qubit gates\n",
        "    error_1q = pauli_error([('X', alpha/3), ('Y', alpha/3), ('Z', alpha/3), ('I', 1 - alpha)])\n",
        "    error_2q = pauli_error([('X', beta/3), ('Y', beta/3), ('Z', beta/3), ('I', 1 - beta)]).tensor(pauli_error([('X', beta/3), ('Y', beta/3), ('Z', beta/3), ('I', 1 - beta)]))\n",
        "\n",
        "    # Apply to all one-qubit and two-qubit gates\n",
        "    noise_model.add_all_qubit_quantum_error(error_1q, [\"u1\", \"u2\", \"u3\",\"x\",\"h\",\"rx\",\"ry\",\"rz\",\"p\"])\n",
        "    noise_model.add_all_qubit_quantum_error(error_2q, [\"cx\",\"cz\",\"cry\",\"crx\",\"crz\",\"cp\",\"swap\"])\n",
        "\n",
        "    # Create noisy simulator backend\n",
        "    sim_noise = AerSimulator(noise_model=noise_model)\n",
        "\n",
        "    # Transpile circuit for noisy basis gates\n",
        "    passmanager = generate_preset_pass_manager(optimization_level=3, backend=sim_noise)\n",
        "    circ_tnoise = passmanager.run(circuit)\n",
        "\n",
        "    # Run and get counts\n",
        "    result_bit_flip = sim_noise.run(circ_tnoise).result()\n",
        "    counts_bit_flip = result_bit_flip.get_counts(0)\n",
        "\n",
        "\n",
        "    return circ_tnoise, sim_noise\n",
        "\n",
        "# Example Usage\n",
        "qc = QuantumCircuit(2)\n",
        "qc.h(0)\n",
        "qc.cx(0, 1)\n",
        "qc.measure_all()\n",
        "alpha = 0.05  # Noise probability after one-qubit gates\n",
        "beta = 0.10   # Noise probability after two-qubit gates\n",
        "\n",
        "noisy_circ, sim_noise = add_pauli_noise(alpha, beta, qc)\n",
        "\n",
        "# Run the noisy simulation\n",
        "result = sim_noise.run(noisy_circ).result()\n",
        "counts = result.get_counts()\n",
        "\n",
        "# Plot noisy result\n",
        "from qiskit.visualization import plot_histogram\n",
        "plot_histogram(counts)\n"
      ],
      "metadata": {
        "id": "4pjoGMVwutv1",
        "colab": {
          "base_uri": "https://localhost:8080/",
          "height": 437
        },
        "outputId": "5a7a939d-7fd4-4ecf-ef1d-7fc878affe58"
      },
      "execution_count": 17,
      "outputs": [
        {
          "output_type": "execute_result",
          "data": {
            "text/plain": [
              "<Figure size 640x480 with 1 Axes>"
            ],
            "image/png": "[encoded data removed]"
          },
          "metadata": {},
          "execution_count": 17
        }
      ]
    },
    {
      "cell_type": "code",
      "source": [],
      "metadata": {
        "id": "kUTrP6Sslg7r"
      },
      "execution_count": null,
      "outputs": []
    }
  ]
}