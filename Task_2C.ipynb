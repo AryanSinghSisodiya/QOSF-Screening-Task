{
  "nbformat": 4,
  "nbformat_minor": 0,
  "metadata": {
    "colab": {
      "provenance": []
    },
    "kernelspec": {
      "name": "python3",
      "display_name": "Python 3"
    },
    "language_info": {
      "name": "python"
    }
  },
  "cells": [
    {
      "cell_type": "markdown",
      "source": [
        "#Problem Statement\n",
        "Objective: Implement a function quantum_sum to add two numbers using the Draper adder algorithm, incorporating the Quantum Fourier Transform (QFT) that is built from scratch, instead of using pre-built library functions."
      ],
      "metadata": {
        "id": "-C4VWjgssQz_"
      }
    },
    {
      "cell_type": "markdown",
      "source": [
        "##Code Overview\n",
        "The code effectively implements the Draper adder algorithm using custom-built QFT functions. It consists of various functions that manage the initialization of qubits, execution of the QFT, evolution of quantum states, measurement, and the overall summation process. Below is a detailed breakdown of each part of the code."
      ],
      "metadata": {
        "id": "xKgDgM5RsYiB"
      }
    },
    {
      "cell_type": "code",
      "source": [
        "!pip install qiskit\n",
        "!pip install pylatexenc\n",
        "!pip install qiskit_aer\n",
        "!pip install qiskit_ibm_runtime"
      ],
      "metadata": {
        "colab": {
          "base_uri": "https://localhost:8080/"
        },
        "collapsed": true,
        "id": "vGLtfJ25GHP0",
        "outputId": "f47cbfc3-1e8a-47bc-8ac1-0af37dcad7be"
      },
      "execution_count": 2,
      "outputs": [
        {
          "output_type": "stream",
          "name": "stdout",
          "text": [
            "Collecting qiskit\n",
            "  Downloading qiskit-1.2.4-cp38-abi3-manylinux_2_17_x86_64.manylinux2014_x86_64.whl.metadata (12 kB)\n",
            "Collecting rustworkx>=0.15.0 (from qiskit)\n",
            "  Downloading rustworkx-0.15.1-cp38-abi3-manylinux_2_17_x86_64.manylinux2014_x86_64.whl.metadata (9.9 kB)\n",
            "Requirement already satisfied: numpy<3,>=1.17 in /usr/local/lib/python3.10/dist-packages (from qiskit) (1.26.4)\n",
            "Requirement already satisfied: scipy>=1.5 in /usr/local/lib/python3.10/dist-packages (from qiskit) (1.13.1)\n",
            "Requirement already satisfied: sympy>=1.3 in /usr/local/lib/python3.10/dist-packages (from qiskit) (1.13.3)\n",
            "Collecting dill>=0.3 (from qiskit)\n",
            "  Downloading dill-0.3.9-py3-none-any.whl.metadata (10 kB)\n",
            "Requirement already satisfied: python-dateutil>=2.8.0 in /usr/local/lib/python3.10/dist-packages (from qiskit) (2.8.2)\n",
            "Collecting stevedore>=3.0.0 (from qiskit)\n",
            "  Downloading stevedore-5.3.0-py3-none-any.whl.metadata (2.3 kB)\n",
            "Requirement already satisfied: typing-extensions in /usr/local/lib/python3.10/dist-packages (from qiskit) (4.12.2)\n",
            "Collecting symengine<0.14,>=0.11 (from qiskit)\n",
            "  Downloading symengine-0.13.0-cp310-cp310-manylinux_2_17_x86_64.manylinux2014_x86_64.whl.metadata (1.2 kB)\n",
            "Requirement already satisfied: six>=1.5 in /usr/local/lib/python3.10/dist-packages (from python-dateutil>=2.8.0->qiskit) (1.16.0)\n",
            "Collecting pbr>=2.0.0 (from stevedore>=3.0.0->qiskit)\n",
            "  Downloading pbr-6.1.0-py2.py3-none-any.whl.metadata (3.4 kB)\n",
            "Requirement already satisfied: mpmath<1.4,>=1.1.0 in /usr/local/lib/python3.10/dist-packages (from sympy>=1.3->qiskit) (1.3.0)\n",
            "Downloading qiskit-1.2.4-cp38-abi3-manylinux_2_17_x86_64.manylinux2014_x86_64.whl (4.8 MB)\n",
            "\u001b[2K   \u001b[90m━━━━━━━━━━━━━━━━━━━━━━━━━━━━━━━━━━━━━━━━\u001b[0m \u001b[32m4.8/4.8 MB\u001b[0m \u001b[31m19.6 MB/s\u001b[0m eta \u001b[36m0:00:00\u001b[0m\n",
            "\u001b[?25hDownloading dill-0.3.9-py3-none-any.whl (119 kB)\n",
            "\u001b[2K   \u001b[90m━━━━━━━━━━━━━━━━━━━━━━━━━━━━━━━━━━━━━━━━\u001b[0m \u001b[32m119.4/119.4 kB\u001b[0m \u001b[31m4.4 MB/s\u001b[0m eta \u001b[36m0:00:00\u001b[0m\n",
            "\u001b[?25hDownloading rustworkx-0.15.1-cp38-abi3-manylinux_2_17_x86_64.manylinux2014_x86_64.whl (2.0 MB)\n",
            "\u001b[2K   \u001b[90m━━━━━━━━━━━━━━━━━━━━━━━━━━━━━━━━━━━━━━━━\u001b[0m \u001b[32m2.0/2.0 MB\u001b[0m \u001b[31m21.5 MB/s\u001b[0m eta \u001b[36m0:00:00\u001b[0m\n",
            "\u001b[?25hDownloading stevedore-5.3.0-py3-none-any.whl (49 kB)\n",
            "\u001b[2K   \u001b[90m━━━━━━━━━━━━━━━━━━━━━━━━━━━━━━━━━━━━━━━━\u001b[0m \u001b[32m49.7/49.7 kB\u001b[0m \u001b[31m2.8 MB/s\u001b[0m eta \u001b[36m0:00:00\u001b[0m\n",
            "\u001b[?25hDownloading symengine-0.13.0-cp310-cp310-manylinux_2_17_x86_64.manylinux2014_x86_64.whl (49.7 MB)\n",
            "\u001b[2K   \u001b[90m━━━━━━━━━━━━━━━━━━━━━━━━━━━━━━━━━━━━━━━━\u001b[0m \u001b[32m49.7/49.7 MB\u001b[0m \u001b[31m12.1 MB/s\u001b[0m eta \u001b[36m0:00:00\u001b[0m\n",
            "\u001b[?25hDownloading pbr-6.1.0-py2.py3-none-any.whl (108 kB)\n",
            "\u001b[2K   \u001b[90m━━━━━━━━━━━━━━━━━━━━━━━━━━━━━━━━━━━━━━━━\u001b[0m \u001b[32m108.5/108.5 kB\u001b[0m \u001b[31m7.0 MB/s\u001b[0m eta \u001b[36m0:00:00\u001b[0m\n",
            "\u001b[?25hInstalling collected packages: symengine, rustworkx, pbr, dill, stevedore, qiskit\n",
            "Successfully installed dill-0.3.9 pbr-6.1.0 qiskit-1.2.4 rustworkx-0.15.1 stevedore-5.3.0 symengine-0.13.0\n",
            "Collecting pylatexenc\n",
            "  Downloading pylatexenc-2.10.tar.gz (162 kB)\n",
            "\u001b[2K     \u001b[90m━━━━━━━━━━━━━━━━━━━━━━━━━━━━━━━━━━━━━━━━\u001b[0m \u001b[32m162.6/162.6 kB\u001b[0m \u001b[31m3.9 MB/s\u001b[0m eta \u001b[36m0:00:00\u001b[0m\n",
            "\u001b[?25h  Preparing metadata (setup.py) ... \u001b[?25l\u001b[?25hdone\n",
            "Building wheels for collected packages: pylatexenc\n",
            "  Building wheel for pylatexenc (setup.py) ... \u001b[?25l\u001b[?25hdone\n",
            "  Created wheel for pylatexenc: filename=pylatexenc-2.10-py3-none-any.whl size=136816 sha256=59ca7032b2e9302ac0397f26a700f9024cdcbd1315324095f7d040745f5b9a15\n",
            "  Stored in directory: /root/.cache/pip/wheels/d3/31/8b/e09b0386afd80cfc556c00408c9aeea5c35c4d484a9c762fd5\n",
            "Successfully built pylatexenc\n",
            "Installing collected packages: pylatexenc\n",
            "Successfully installed pylatexenc-2.10\n",
            "Collecting qiskit_aer\n",
            "  Downloading qiskit_aer-0.15.1-cp310-cp310-manylinux_2_17_x86_64.manylinux2014_x86_64.whl.metadata (8.0 kB)\n",
            "Requirement already satisfied: qiskit>=1.1.0 in /usr/local/lib/python3.10/dist-packages (from qiskit_aer) (1.2.4)\n",
            "Requirement already satisfied: numpy>=1.16.3 in /usr/local/lib/python3.10/dist-packages (from qiskit_aer) (1.26.4)\n",
            "Requirement already satisfied: scipy>=1.0 in /usr/local/lib/python3.10/dist-packages (from qiskit_aer) (1.13.1)\n",
            "Requirement already satisfied: psutil>=5 in /usr/local/lib/python3.10/dist-packages (from qiskit_aer) (5.9.5)\n",
            "Requirement already satisfied: rustworkx>=0.15.0 in /usr/local/lib/python3.10/dist-packages (from qiskit>=1.1.0->qiskit_aer) (0.15.1)\n",
            "Requirement already satisfied: sympy>=1.3 in /usr/local/lib/python3.10/dist-packages (from qiskit>=1.1.0->qiskit_aer) (1.13.3)\n",
            "Requirement already satisfied: dill>=0.3 in /usr/local/lib/python3.10/dist-packages (from qiskit>=1.1.0->qiskit_aer) (0.3.9)\n",
            "Requirement already satisfied: python-dateutil>=2.8.0 in /usr/local/lib/python3.10/dist-packages (from qiskit>=1.1.0->qiskit_aer) (2.8.2)\n",
            "Requirement already satisfied: stevedore>=3.0.0 in /usr/local/lib/python3.10/dist-packages (from qiskit>=1.1.0->qiskit_aer) (5.3.0)\n",
            "Requirement already satisfied: typing-extensions in /usr/local/lib/python3.10/dist-packages (from qiskit>=1.1.0->qiskit_aer) (4.12.2)\n",
            "Requirement already satisfied: symengine<0.14,>=0.11 in /usr/local/lib/python3.10/dist-packages (from qiskit>=1.1.0->qiskit_aer) (0.13.0)\n",
            "Requirement already satisfied: six>=1.5 in /usr/local/lib/python3.10/dist-packages (from python-dateutil>=2.8.0->qiskit>=1.1.0->qiskit_aer) (1.16.0)\n",
            "Requirement already satisfied: pbr>=2.0.0 in /usr/local/lib/python3.10/dist-packages (from stevedore>=3.0.0->qiskit>=1.1.0->qiskit_aer) (6.1.0)\n",
            "Requirement already satisfied: mpmath<1.4,>=1.1.0 in /usr/local/lib/python3.10/dist-packages (from sympy>=1.3->qiskit>=1.1.0->qiskit_aer) (1.3.0)\n",
            "Downloading qiskit_aer-0.15.1-cp310-cp310-manylinux_2_17_x86_64.manylinux2014_x86_64.whl (12.3 MB)\n",
            "\u001b[2K   \u001b[90m━━━━━━━━━━━━━━━━━━━━━━━━━━━━━━━━━━━━━━━━\u001b[0m \u001b[32m12.3/12.3 MB\u001b[0m \u001b[31m64.2 MB/s\u001b[0m eta \u001b[36m0:00:00\u001b[0m\n",
            "\u001b[?25hInstalling collected packages: qiskit_aer\n",
            "Successfully installed qiskit_aer-0.15.1\n",
            "Collecting qiskit_ibm_runtime\n",
            "  Downloading qiskit_ibm_runtime-0.31.0-py3-none-any.whl.metadata (19 kB)\n",
            "Requirement already satisfied: requests>=2.19 in /usr/local/lib/python3.10/dist-packages (from qiskit_ibm_runtime) (2.32.3)\n",
            "Collecting requests-ntlm>=1.1.0 (from qiskit_ibm_runtime)\n",
            "  Downloading requests_ntlm-1.3.0-py3-none-any.whl.metadata (2.4 kB)\n",
            "Requirement already satisfied: numpy>=1.13 in /usr/local/lib/python3.10/dist-packages (from qiskit_ibm_runtime) (1.26.4)\n",
            "Requirement already satisfied: urllib3>=1.21.1 in /usr/local/lib/python3.10/dist-packages (from qiskit_ibm_runtime) (2.2.3)\n",
            "Requirement already satisfied: python-dateutil>=2.8.0 in /usr/local/lib/python3.10/dist-packages (from qiskit_ibm_runtime) (2.8.2)\n",
            "Requirement already satisfied: websocket-client>=1.5.1 in /usr/local/lib/python3.10/dist-packages (from qiskit_ibm_runtime) (1.8.0)\n",
            "Collecting ibm-platform-services>=0.22.6 (from qiskit_ibm_runtime)\n",
            "  Downloading ibm_platform_services-0.57.2-py3-none-any.whl.metadata (9.1 kB)\n",
            "Requirement already satisfied: pydantic>=2.5.0 in /usr/local/lib/python3.10/dist-packages (from qiskit_ibm_runtime) (2.9.2)\n",
            "Requirement already satisfied: qiskit>=1.1.0 in /usr/local/lib/python3.10/dist-packages (from qiskit_ibm_runtime) (1.2.4)\n",
            "Collecting ibm-cloud-sdk-core<4.0.0,>=3.22.0 (from ibm-platform-services>=0.22.6->qiskit_ibm_runtime)\n",
            "  Downloading ibm_cloud_sdk_core-3.22.0-py3-none-any.whl.metadata (8.6 kB)\n",
            "Requirement already satisfied: annotated-types>=0.6.0 in /usr/local/lib/python3.10/dist-packages (from pydantic>=2.5.0->qiskit_ibm_runtime) (0.7.0)\n",
            "Requirement already satisfied: pydantic-core==2.23.4 in /usr/local/lib/python3.10/dist-packages (from pydantic>=2.5.0->qiskit_ibm_runtime) (2.23.4)\n",
            "Requirement already satisfied: typing-extensions>=4.6.1 in /usr/local/lib/python3.10/dist-packages (from pydantic>=2.5.0->qiskit_ibm_runtime) (4.12.2)\n",
            "Requirement already satisfied: six>=1.5 in /usr/local/lib/python3.10/dist-packages (from python-dateutil>=2.8.0->qiskit_ibm_runtime) (1.16.0)\n",
            "Requirement already satisfied: rustworkx>=0.15.0 in /usr/local/lib/python3.10/dist-packages (from qiskit>=1.1.0->qiskit_ibm_runtime) (0.15.1)\n",
            "Requirement already satisfied: scipy>=1.5 in /usr/local/lib/python3.10/dist-packages (from qiskit>=1.1.0->qiskit_ibm_runtime) (1.13.1)\n",
            "Requirement already satisfied: sympy>=1.3 in /usr/local/lib/python3.10/dist-packages (from qiskit>=1.1.0->qiskit_ibm_runtime) (1.13.3)\n",
            "Requirement already satisfied: dill>=0.3 in /usr/local/lib/python3.10/dist-packages (from qiskit>=1.1.0->qiskit_ibm_runtime) (0.3.9)\n",
            "Requirement already satisfied: stevedore>=3.0.0 in /usr/local/lib/python3.10/dist-packages (from qiskit>=1.1.0->qiskit_ibm_runtime) (5.3.0)\n",
            "Requirement already satisfied: symengine<0.14,>=0.11 in /usr/local/lib/python3.10/dist-packages (from qiskit>=1.1.0->qiskit_ibm_runtime) (0.13.0)\n",
            "Requirement already satisfied: charset-normalizer<4,>=2 in /usr/local/lib/python3.10/dist-packages (from requests>=2.19->qiskit_ibm_runtime) (3.4.0)\n",
            "Requirement already satisfied: idna<4,>=2.5 in /usr/local/lib/python3.10/dist-packages (from requests>=2.19->qiskit_ibm_runtime) (3.10)\n",
            "Requirement already satisfied: certifi>=2017.4.17 in /usr/local/lib/python3.10/dist-packages (from requests>=2.19->qiskit_ibm_runtime) (2024.8.30)\n",
            "Requirement already satisfied: cryptography>=1.3 in /usr/local/lib/python3.10/dist-packages (from requests-ntlm>=1.1.0->qiskit_ibm_runtime) (43.0.1)\n",
            "Collecting pyspnego>=0.4.0 (from requests-ntlm>=1.1.0->qiskit_ibm_runtime)\n",
            "  Downloading pyspnego-0.11.1-py3-none-any.whl.metadata (5.4 kB)\n",
            "Requirement already satisfied: cffi>=1.12 in /usr/local/lib/python3.10/dist-packages (from cryptography>=1.3->requests-ntlm>=1.1.0->qiskit_ibm_runtime) (1.17.1)\n",
            "Requirement already satisfied: PyJWT<3.0.0,>=2.8.0 in /usr/local/lib/python3.10/dist-packages (from ibm-cloud-sdk-core<4.0.0,>=3.22.0->ibm-platform-services>=0.22.6->qiskit_ibm_runtime) (2.9.0)\n",
            "Requirement already satisfied: pbr>=2.0.0 in /usr/local/lib/python3.10/dist-packages (from stevedore>=3.0.0->qiskit>=1.1.0->qiskit_ibm_runtime) (6.1.0)\n",
            "Requirement already satisfied: mpmath<1.4,>=1.1.0 in /usr/local/lib/python3.10/dist-packages (from sympy>=1.3->qiskit>=1.1.0->qiskit_ibm_runtime) (1.3.0)\n",
            "Requirement already satisfied: pycparser in /usr/local/lib/python3.10/dist-packages (from cffi>=1.12->cryptography>=1.3->requests-ntlm>=1.1.0->qiskit_ibm_runtime) (2.22)\n",
            "Downloading qiskit_ibm_runtime-0.31.0-py3-none-any.whl (2.9 MB)\n",
            "\u001b[2K   \u001b[90m━━━━━━━━━━━━━━━━━━━━━━━━━━━━━━━━━━━━━━━━\u001b[0m \u001b[32m2.9/2.9 MB\u001b[0m \u001b[31m21.9 MB/s\u001b[0m eta \u001b[36m0:00:00\u001b[0m\n",
            "\u001b[?25hDownloading ibm_platform_services-0.57.2-py3-none-any.whl (343 kB)\n",
            "\u001b[2K   \u001b[90m━━━━━━━━━━━━━━━━━━━━━━━━━━━━━━━━━━━━━━━━\u001b[0m \u001b[32m343.3/343.3 kB\u001b[0m \u001b[31m17.0 MB/s\u001b[0m eta \u001b[36m0:00:00\u001b[0m\n",
            "\u001b[?25hDownloading requests_ntlm-1.3.0-py3-none-any.whl (6.6 kB)\n",
            "Downloading ibm_cloud_sdk_core-3.22.0-py3-none-any.whl (69 kB)\n",
            "\u001b[2K   \u001b[90m━━━━━━━━━━━━━━━━━━━━━━━━━━━━━━━━━━━━━━━━\u001b[0m \u001b[32m69.4/69.4 kB\u001b[0m \u001b[31m6.7 MB/s\u001b[0m eta \u001b[36m0:00:00\u001b[0m\n",
            "\u001b[?25hDownloading pyspnego-0.11.1-py3-none-any.whl (130 kB)\n",
            "\u001b[2K   \u001b[90m━━━━━━━━━━━━━━━━━━━━━━━━━━━━━━━━━━━━━━━━\u001b[0m \u001b[32m130.5/130.5 kB\u001b[0m \u001b[31m12.3 MB/s\u001b[0m eta \u001b[36m0:00:00\u001b[0m\n",
            "\u001b[?25hInstalling collected packages: ibm-cloud-sdk-core, pyspnego, ibm-platform-services, requests-ntlm, qiskit_ibm_runtime\n",
            "Successfully installed ibm-cloud-sdk-core-3.22.0 ibm-platform-services-0.57.2 pyspnego-0.11.1 qiskit_ibm_runtime-0.31.0 requests-ntlm-1.3.0\n"
          ]
        }
      ]
    },
    {
      "cell_type": "code",
      "source": [
        "from qiskit import QuantumCircuit,QuantumRegister,ClassicalRegister,transpile\n",
        "from qiskit_aer import AerSimulator\n",
        "import numpy as np\n",
        "from qiskit.visualization import plot_histogram"
      ],
      "metadata": {
        "id": "8139SU06GQhG"
      },
      "execution_count": 3,
      "outputs": []
    },
    {
      "cell_type": "markdown",
      "source": [
        "##QFT Execution Function\n",
        "\n",
        "Hadamard Gate: The function starts by applying a Hadamard gate to the n-th qubit, generating a superposition state. \\\\\n",
        "Controlled Phase Rotations: Next, it applies controlled phase rotations to create the entangled state needed for QFT."
      ],
      "metadata": {
        "id": "buJCnzHvtKg6"
      }
    },
    {
      "cell_type": "code",
      "execution_count": 4,
      "metadata": {
        "id": "v6ucuSS9wDTE",
        "colab": {
          "base_uri": "https://localhost:8080/",
          "height": 52
        },
        "outputId": "c95d55b2-190c-4cbf-9f5c-6fda331dcfbd"
      },
      "outputs": [
        {
          "output_type": "execute_result",
          "data": {
            "text/plain": [
              "'\\nqc: input quantum circuit\\nreg_a: first input register to execute QFT\\nreg_b: second input register to execute QFT\\nn: n-th qbit to apply hadamard and phase rotation\\n'"
            ],
            "application/vnd.google.colaboratory.intrinsic+json": {
              "type": "string"
            }
          },
          "metadata": {},
          "execution_count": 4
        }
      ],
      "source": [
        "def executeQFT(qc, reg, n):\n",
        "    # Executes the QTF of reg, one qubit a time\n",
        "    # Apply one Hadamard gate to the n-th qubit of the quantum register reg, and\n",
        "    # then apply repeated phase rotations with parameters being pi divided by\n",
        "    # increasing powers of two\n",
        "\n",
        "    qc.h(reg[n])\n",
        "    for i in range(0, n):\n",
        "        #cp(theta, control_qubit, target_qubit[, …])\n",
        "        qc.cp(np.pi/float(2**(i+1)), reg[n-(i+1)], reg[n])\n",
        "\n",
        "'''\n",
        "qc: input quantum circuit\n",
        "reg_a: first input register to execute QFT\n",
        "reg_b: second input register to execute QFT\n",
        "n: n-th qbit to apply hadamard and phase rotation\n",
        "'''"
      ]
    },
    {
      "cell_type": "markdown",
      "source": [
        "##State Evolution Function\n",
        "\n",
        "Purpose: This function evolves the state of reg_a to include the contributions from reg_b by applying additional controlled phase rotations. It effectively prepares the quantum state for addition in the Fourier domain"
      ],
      "metadata": {
        "id": "Cd-vcpXPtSnd"
      }
    },
    {
      "cell_type": "code",
      "source": [
        "def evolveQFTStateSum(qc, reg_a, reg_b, n):\n",
        "    # Evolves the state |F(psi(reg_a))> to |F(psi(reg_a+reg_b))> using the QFT\n",
        "    # conditioned on the qubits of the reg_b.\n",
        "    # Apply repeated phase rotations with parameters being pi divided by\n",
        "    # increasing powers of two.\n",
        "\n",
        "    l = len(reg_b)\n",
        "    for i in range(n+1):\n",
        "        if (n - i) > l - 1:\n",
        "            pass\n",
        "        else:\n",
        "            #cp(theta, control_qubit, target_qubit[, ...])\n",
        "            qc.cp(np.pi/float(2**(i)), reg_b[n-i], reg_a[n])\n",
        "\n",
        "'''\n",
        "qc: input quantum circuit\n",
        "reg_a: first input register to execute QFT\n",
        "reg_b: second input register to execute QFT\n",
        "n: n-th qbit to apply hadamard and phase rotation\n",
        "\n",
        "'''"
      ],
      "metadata": {
        "colab": {
          "base_uri": "https://localhost:8080/",
          "height": 52
        },
        "id": "C2iOw2gV0brr",
        "outputId": "61b55786-3e67-499c-83ab-70ca20dbd68c"
      },
      "execution_count": 5,
      "outputs": [
        {
          "output_type": "execute_result",
          "data": {
            "text/plain": [
              "'\\nqc: input quantum circuit\\nreg_a: first input register to execute QFT\\nreg_b: second input register to execute QFT\\nn: n-th qbit to apply hadamard and phase rotation\\n\\n'"
            ],
            "application/vnd.google.colaboratory.intrinsic+json": {
              "type": "string"
            }
          },
          "metadata": {},
          "execution_count": 5
        }
      ]
    },
    {
      "cell_type": "markdown",
      "source": [
        "##Implementing Inverse Quantum Fourier Transform (IQFT)\n",
        "\n",
        "Reverse Phase Rotations: The inverse QFT undoes the transformations applied by QFT and returns the qubits to the computational basis. It applies controlled phase rotations with negative angles followed by a Hadamard gate."
      ],
      "metadata": {
        "id": "eU2ng1Edtbgi"
      }
    },
    {
      "cell_type": "code",
      "source": [
        "def inverseQFT(qc, reg, n):\n",
        "    # Executes the inverse QFT on a register reg.\n",
        "    # Apply repeated phase rotations with parameters being pi divided by\n",
        "    # decreasing powers of two, and then apply a Hadamard gate to the nth qubit\n",
        "    # of the register reg.\n",
        "\n",
        "    for i in range(n):\n",
        "        #cp(theta, control_qubit, target_qubit[, ...])\n",
        "        qc.cp(-1*np.pi/float(2**(n-i)), reg[i], reg[n])\n",
        "    qc.h(reg[n])"
      ],
      "metadata": {
        "id": "_ovTT8AN0fWN"
      },
      "execution_count": 6,
      "outputs": []
    },
    {
      "cell_type": "markdown",
      "source": [
        "##Performing the Quantum Adder Operation\n",
        "\n",
        "Measurement: Measures the state of the qubits after performing the addition.\n",
        "Simulation: Transpiles and runs the circuit on the AerSimulator, collecting results."
      ],
      "metadata": {
        "id": "JmQM4ee6tiqI"
      }
    },
    {
      "cell_type": "code",
      "source": [
        "def qcadder(first, second, qc,result, cl, n):\n",
        "    # Measure qubits\n",
        "    for i in range(n+1):\n",
        "        qc.measure(result[i], cl[i])\n",
        "\n",
        "    # Set chosen backend and execute job\n",
        "    backend=AerSimulator()\n",
        "    new_circuit = transpile(qc, backend)\n",
        "    job = backend.run(new_circuit)\n",
        "\n",
        "    # Get results of program\n",
        "    job_stats = job.result().get_counts()\n",
        "    for key, value in job_stats.items():\n",
        "        res = key\n",
        "        prob = value\n",
        "    return res, prob"
      ],
      "metadata": {
        "id": "EUqpxg3g333q"
      },
      "execution_count": 7,
      "outputs": []
    },
    {
      "cell_type": "markdown",
      "source": [
        "##Initializing Qubits for Input Numbers\n",
        "\n",
        "Purpose: Initializes the quantum registers based on the binary representation of the input integers. It flips the corresponding qubits to the |1⟩ state where necessary by applying X gate."
      ],
      "metadata": {
        "id": "0FGot_Kftq6N"
      }
    },
    {
      "cell_type": "code",
      "source": [
        "def initQubits(str, qc, reg, n):\n",
        "    # Flip the corresponding qubit in register if a bit in the string is a 1\n",
        "    for i in range(n):\n",
        "        if str[i] == \"1\":\n",
        "            qc.x(reg[n-(i+1)])"
      ],
      "metadata": {
        "id": "US0D_9ib86kU"
      },
      "execution_count": 8,
      "outputs": []
    },
    {
      "cell_type": "markdown",
      "source": [
        "##Summation Function\n",
        "\n",
        "QFT Application: Applies QFT to the first register a. \\\\\n",
        "State Evolution: Evolves the state of register a by adding contributions from register b. \\\\\n",
        "Inverse QFT: Applies the inverse QFT to convert the state back to the computational basis"
      ],
      "metadata": {
        "id": "YEgZO4eSt2su"
      }
    },
    {
      "cell_type": "code",
      "source": [
        "import math\n",
        "from qiskit import *\n",
        "\n",
        "pie = np.pi\n",
        "def sum(a, b, qc):\n",
        "    n = len(a)-1\n",
        "    # Compute the Fourier transform of register a\n",
        "    for i in range(n+1):\n",
        "        executeQFT(qc, a, n-i)\n",
        "\n",
        "    # Add the two numbers by evolving the Fourier transform F(ψ(reg_a))>\n",
        "    # to |F(ψ(reg_a+reg_b))>\n",
        "    for i in range(n+1):\n",
        "        evolveQFTStateSum(qc, a, b, n-i)\n",
        "\n",
        "    # Compute the inverse Fourier transform of register a\n",
        "    for i in range(n+1):\n",
        "        inverseQFT(qc, a, i)\n",
        "    return qc"
      ],
      "metadata": {
        "id": "xVmu2V7iGFTk"
      },
      "execution_count": 9,
      "outputs": []
    },
    {
      "cell_type": "markdown",
      "source": [
        "##Output Function\n",
        "\n",
        "Purpose: Converts the binary result back to decimal and prints the result of the addition along with its probability."
      ],
      "metadata": {
        "id": "9YQQIb4it-Se"
      }
    },
    {
      "cell_type": "code",
      "source": [
        "def printresult(first,second,res, prob,input1,input2):\n",
        "  sum = int(res, 2)\n",
        "  print( f'\\n{first} + {second} = {res} with a probability of {prob}%' )\n",
        "  print( f'\\n{input1} + {input2} = {sum}' )"
      ],
      "metadata": {
        "id": "ywqny8c-0x4Z"
      },
      "execution_count": 10,
      "outputs": []
    },
    {
      "cell_type": "markdown",
      "source": [
        "User Input: Accepts two positive integers from the user and converts them to binary format. \\\\\n",
        "Register Initialization: Initializes the quantum and classical registers for the addition process. \\\\\n",
        "Addition Execution: Executes the addition using the custom QFT and prints the result."
      ],
      "metadata": {
        "id": "d4ev1XfcuEhR"
      }
    },
    {
      "cell_type": "code",
      "source": [
        "input1 = int(input(\"Enter a first positive integer:\\n\" ))\n",
        "input2 = int(input(\"Enter a second positive integer:\\n\" ))\n",
        "first = '{0:{fill}2b}'.format(input1, fill='0')\n",
        "second = '{0:{fill}2b}'.format(input2, fill='0')\n",
        "l1 = len(first)\n",
        "l2 = len(second)\n",
        "if l2>l1:\n",
        "    first,second = second, first\n",
        "    l2, l1 = l1, l2\n",
        "second = (\"0\")*(l1-l2) + second\n",
        "n = l1\n",
        "\n",
        "\n",
        "a = QuantumRegister(n+1, \"a\")\n",
        "b = QuantumRegister(n+1, \"b\")\n",
        "cl = ClassicalRegister(n+1, \"cl\")\n",
        "qc = QuantumCircuit(a, b, cl, name=\"qc\")\n",
        "initQubits(first, qc, a, n)\n",
        "initQubits(second, qc, b, n)\n",
        "adder_qc = sum(a,b,qc)\n",
        "adder_qc.draw(\"mpl\")\n",
        "res , prob = qcadder(first, second, adder_qc,a, cl, n)\n",
        "printresult(first,second,res, prob,input1,input2)"
      ],
      "metadata": {
        "colab": {
          "base_uri": "https://localhost:8080/"
        },
        "id": "M10kOZZ542wY",
        "outputId": "32a255e6-8c1c-4c28-8502-8bd94f1dc48a"
      },
      "execution_count": 11,
      "outputs": [
        {
          "output_type": "stream",
          "name": "stdout",
          "text": [
            "Enter a first positive integer:\n",
            "123\n",
            "Enter a second positive integer:\n",
            "234\n",
            "\n",
            "11101010 + 01111011 = 101100101 with a probability of 1024%\n",
            "\n",
            "123 + 234 = 357\n"
          ]
        }
      ]
    }
  ]
}