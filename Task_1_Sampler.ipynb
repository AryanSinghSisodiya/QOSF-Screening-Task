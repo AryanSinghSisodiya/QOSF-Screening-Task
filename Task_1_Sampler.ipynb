{
  "nbformat": 4,
  "nbformat_minor": 0,
  "metadata": {
    "colab": {
      "provenance": [],
      "toc_visible": true
    },
    "kernelspec": {
      "name": "python3",
      "display_name": "Python 3"
    },
    "language_info": {
      "name": "python"
    }
  },
  "cells": [
    {
      "cell_type": "markdown",
      "source": [
        "#How to sample from the final states:\n",
        "\n",
        "Use the **predict_final_state** function to sample the final state of the quantum register. \\\\\n",
        "This function computes the probabilities for each state and then samples according to these probabilities."
      ],
      "metadata": {
        "id": "35n5tsigTuIg"
      }
    },
    {
      "cell_type": "markdown",
      "source": [
        "##Gates\n",
        "**Hadamard Gate (H_matrix)**: Creates superposition in a qubit. \\\\\n",
        "**Pauli-X Gate (X_matrix)**: Acts as a NOT gate, flipping a qubit's state. \\\\\n",
        "**CNOT Gate**: A two-qubit gate used for entanglement, which flips the target qubit based on the control qubit's state. \\\\\n",
        "**CNOT Tensor**: The CNOT matrix is reshaped into a tensor to handle multi-qubit operations in a quantum register. \\\\"
      ],
      "metadata": {
        "id": "1ot7OvaLQbNf"
      }
    },
    {
      "cell_type": "code",
      "source": [
        "import numpy as np\n",
        "from scipy.linalg import norm\n",
        "\n",
        "# Define the quantum gates as matrices\n",
        "H_matrix = np.array([[1, 1], [1, -1]]) / np.sqrt(2)\n",
        "X_matrix = np.array([[0, 1], [1, 0]])  # Pauli-X gate (NOT gate)\n",
        "\n",
        "# CNOT gate represented as a matrix for two qubits\n",
        "CNOT_matrix = np.array([[1, 0, 0, 0],\n",
        "                        [0, 1, 0, 0],\n",
        "                        [0, 0, 0, 1],\n",
        "                        [0, 0, 1, 0]])\n",
        "\n",
        "# Reshape the CNOT matrix into a 4-dimensional tensor for multi-qubit operations\n",
        "CNOT_tensor = np.reshape(CNOT_matrix, (2, 2, 2, 2))"
      ],
      "metadata": {
        "id": "MiunXs69QWNR"
      },
      "execution_count": 18,
      "outputs": []
    },
    {
      "cell_type": "markdown",
      "source": [
        "##Projectors:\n",
        "These matrices are used for measurement. \\\\\n",
        "When you measure a quantum state, you project it onto the basis states, and these matrices correspond to the |0⟩ and |1⟩ measurement outcomes."
      ],
      "metadata": {
        "id": "pnPqx0jtQoiF"
      }
    },
    {
      "cell_type": "code",
      "source": [
        "# Define the projectors for measurement\n",
        "projectors = [np.array([[1, 0], [0, 0]]), np.array([[0, 0], [0, 1]])]"
      ],
      "metadata": {
        "id": "A641eERnQmuX"
      },
      "execution_count": null,
      "outputs": []
    },
    {
      "cell_type": "markdown",
      "source": [
        "##Quantum Register:\n",
        "A class to represent the quantum state and operations on it. \\\\\n",
        "**self.num_qubits**: The number of qubits. \\\\\n",
        "**self.psi**: The quantum state represented as a tensor. It's initialized to |0⟩ state for all qubits. \\\\\n",
        "**self.circuit**: Tracks which gates are applied to each qubit, helping visualize the circuit.\n",
        "\n",
        "**apply_gate**: This method applies a single-qubit gate to the specified qubit. It uses np.tensordot to apply the matrix multiplication between the gate and the quantum state, and then reorders the axes to maintain proper qubit indexing. \\\\\n",
        "**apply_CNOT**: This method applies a CNOT gate between two qubits. Again, np.tensordot is used for the matrix-tensor product, followed by np.moveaxis to maintain qubit order."
      ],
      "metadata": {
        "id": "Ai4xJ3wORYAY"
      }
    },
    {
      "cell_type": "code",
      "source": [
        "# Quantum register class with circuit tracking\n",
        "class QuantumRegister:\n",
        "    def __init__(self, num_qubits):\n",
        "        self.num_qubits = num_qubits\n",
        "        self.psi = np.zeros((2,) * num_qubits)  # Initialize the quantum state\n",
        "        self.psi[(0,) * num_qubits] = 1  # Start in the |0...0⟩ state\n",
        "        self.circuit = [[] for _ in range(num_qubits)]  # Initialize an empty circuit for each qubit\n",
        "\n",
        "    # Method to apply a single qubit gate to a specific qubit\n",
        "    def apply_gate(self, gate, qubit_idx, gate_name):\n",
        "        self.psi = np.tensordot(gate, self.psi, (1, qubit_idx))  # Apply the gate\n",
        "        self.psi = np.moveaxis(self.psi, 0, qubit_idx)  # Restore correct axis order\n",
        "        self.circuit[qubit_idx].append(gate_name)  # Track the gate application\n",
        "\n",
        "    # Method to apply a CNOT gate between two qubits\n",
        "    def apply_CNOT(self, control_idx, target_idx):\n",
        "        self.psi = np.tensordot(CNOT_tensor, self.psi, ((2, 3), (control_idx, target_idx)))\n",
        "        self.psi = np.moveaxis(self.psi, (0, 1), (control_idx, target_idx))  # Correct axis order\n",
        "        self.circuit[control_idx].append(f\"CNOT(control)\")\n",
        "        self.circuit[target_idx].append(f\"CNOT(target)\")\n",
        "\n",
        "    # Method to print the circuit\n",
        "    def print_circuit(self):\n",
        "        for qubit_idx, gates in enumerate(self.circuit):\n",
        "            print(f\"Qubit {qubit_idx}: {' -> '.join(gates) if gates else 'No gates applied'}\")\n",
        "\n",
        "\n",
        "    def expectation_value(self, operator):\n",
        "        # Flatten the statevector to treat it as a vector (instead of a tensor)\n",
        "        statevector = self.psi.flatten()\n",
        "\n",
        "        # Compute the conjugate transpose of the statevector\n",
        "        state_conjugate = np.conjugate(statevector)\n",
        "\n",
        "        # Perform matrix multiplication: ⟨ψ|O|ψ⟩\n",
        "        # Step 1: Apply operator to statevector (O|ψ⟩)\n",
        "        intermediate_result = np.dot(operator, statevector)\n",
        "\n",
        "        # Step 2: Compute ⟨ψ| * (O|ψ⟩)\n",
        "        expectation_val = np.dot(state_conjugate, intermediate_result)\n",
        "\n",
        "        return expectation_val"
      ],
      "metadata": {
        "id": "IPPaDZjyRIba"
      },
      "execution_count": 20,
      "outputs": []
    },
    {
      "cell_type": "markdown",
      "source": [
        "## Methods\n",
        "**print_circuit**: Displays the sequence of gates applied to each qubit in the register. \\\\\n",
        "**get_state_probability**: Computes the probability of observing a specific quantum state based on the amplitude. \\\\\n",
        "**print_state_probabilities**: Iterates over all possible states, printing the probability of each one."
      ],
      "metadata": {
        "id": "Rp6FO4qxSOk9"
      }
    },
    {
      "cell_type": "code",
      "source": [
        "# Function to apply a projector and return the projected state\n",
        "def get_state_probability(state, reg):\n",
        "    index = state\n",
        "    amplitude = reg.psi[index]  # Get the amplitude of the corresponding state\n",
        "    probability = np.abs(amplitude) ** 2  # Probability is the square of the amplitude's magnitude\n",
        "    return probability\n",
        "\n",
        "# Function to print probabilities of all possible states\n",
        "def print_state_probabilities(reg):\n",
        "    num_qubits = reg.num_qubits\n",
        "    for state_idx in range(2 ** num_qubits):\n",
        "        state_tuple = tuple(int(x) for x in np.binary_repr(state_idx, width=num_qubits))\n",
        "        prob = get_state_probability(state_tuple, reg)\n",
        "        print(f\"Probability of state |{''.join(map(str, state_tuple))}⟩: {prob:.4f}\")\n"
      ],
      "metadata": {
        "id": "tGQ9dwXCSe2e"
      },
      "execution_count": null,
      "outputs": []
    },
    {
      "cell_type": "markdown",
      "source": [
        "**predict_final_state**: This function samples the final state of the quantum register after measurement, based on the probabilities of each state. \\\\\n",
        "It normalizes the state probabilities and uses np.random.choice to sample according to the probability distribution."
      ],
      "metadata": {
        "id": "lb-aW8b2SlhF"
      }
    },
    {
      "cell_type": "code",
      "source": [
        "def predict_final_state(reg):\n",
        "    num_qubits = reg.num_qubits\n",
        "    state_probabilities = []\n",
        "    states = []\n",
        "\n",
        "    # Gather all possible states and their non-zero probabilities\n",
        "    for state_idx in range(2 ** num_qubits):\n",
        "        state_tuple = tuple(int(x) for x in np.binary_repr(state_idx, width=num_qubits))\n",
        "        prob = get_state_probability(state_tuple, reg)\n",
        "        if prob > 0:  # Only consider states with non-zero probabilities\n",
        "            state_probabilities.append(prob)\n",
        "            states.append(state_tuple)\n",
        "\n",
        "    # Normalize the probabilities\n",
        "    state_probabilities = np.array(state_probabilities)\n",
        "    state_probabilities /= state_probabilities.sum()  # Ensure the probabilities sum to 1\n",
        "\n",
        "    # Use np.random.choice to randomly select a state based on the non-zero probabilities\n",
        "    final_state_idx = np.random.choice(len(states), p=state_probabilities)\n",
        "    collapsed_state = states[final_state_idx]\n",
        "\n",
        "    print(f\"Final collapsed state: |{''.join(map(str, collapsed_state))}⟩\")\n",
        "    return collapsed_state"
      ],
      "metadata": {
        "id": "Y5wLHcNWSuMW"
      },
      "execution_count": null,
      "outputs": []
    },
    {
      "cell_type": "markdown",
      "source": [
        "## Run Simulation\n",
        "**run_simulation**\n",
        ": Sets up a quantum circuit for the given number of qubits. \\\\\n",
        "It applies an X gate, a Hadamard gate, and CNOT gates between adjacent qubits."
      ],
      "metadata": {
        "id": "xLSRYa1SSt9O"
      }
    },
    {
      "cell_type": "code",
      "source": [
        "# Function to run the simulation and track gates for circuit printing\n",
        "def run_simulation(num_qubits):\n",
        "    reg = QuantumRegister(num_qubits)  # Initialize quantum register\n",
        "\n",
        "    for i in range(num_qubits - 1):\n",
        "        reg.apply_gate(X_matrix, i, 'X')\n",
        "        reg.apply_gate(H_matrix, i, 'H')\n",
        "        reg.apply_CNOT(i, i + 1)  # Apply CNOT between adjacent qubits\n",
        "\n",
        "    # Apply X and H gates to the last qubit if necessary\n",
        "    if num_qubits-1 ==0:\n",
        "        reg.apply_gate(X_matrix, num_qubits - 1, 'X')\n",
        "        reg.apply_gate(H_matrix, num_qubits - 1, 'H')\n",
        "\n",
        "    return reg"
      ],
      "metadata": {
        "id": "vNEx131tNNUa"
      },
      "execution_count": 14,
      "outputs": []
    },
    {
      "cell_type": "markdown",
      "source": [
        "##Output\n",
        "This final block executes the entire simulation. It:\n",
        "\n",
        "\n",
        "1.   Runs the quantum circuit.\n",
        "2.   Prints the circuit that was built.\n",
        "3.   Displays the probabilities of all possible states.\n",
        "4.   Samples a final state based on the calculated probabilities.\n"
      ],
      "metadata": {
        "id": "gDbZSrdyTCT-"
      }
    },
    {
      "cell_type": "code",
      "source": [
        "# Example usage\n",
        "for num_qubits in range(1, 6):\n",
        "    reg = run_simulation(num_qubits)  # Run the circuit\n",
        "    reg.print_circuit()  # Print the quantum circuit\n",
        "    print_state_probabilities(reg)  # Print probabilities of all states\n",
        "    predict_final_state(reg)  # Predict and print the final collapsed state\n",
        "    print(\"\\n\")\n",
        "\n"
      ],
      "metadata": {
        "colab": {
          "base_uri": "https://localhost:8080/"
        },
        "id": "4edQlI963SOu",
        "outputId": "3e870d92-22a1-4a35-8cc7-38d1437bad03"
      },
      "execution_count": 15,
      "outputs": [
        {
          "output_type": "stream",
          "name": "stdout",
          "text": [
            "Qubit 0: X -> H\n",
            "Probability of state |0⟩: 0.5000\n",
            "Probability of state |1⟩: 0.5000\n",
            "Final collapsed state: |0⟩\n",
            "\n",
            "\n",
            "Qubit 0: X -> H -> CNOT(control)\n",
            "Qubit 1: CNOT(target)\n",
            "Probability of state |00⟩: 0.5000\n",
            "Probability of state |01⟩: 0.0000\n",
            "Probability of state |10⟩: 0.0000\n",
            "Probability of state |11⟩: 0.5000\n",
            "Final collapsed state: |11⟩\n",
            "\n",
            "\n",
            "Qubit 0: X -> H -> CNOT(control)\n",
            "Qubit 1: CNOT(target) -> X -> H -> CNOT(control)\n",
            "Qubit 2: CNOT(target)\n",
            "Probability of state |000⟩: 0.2500\n",
            "Probability of state |001⟩: 0.0000\n",
            "Probability of state |010⟩: 0.0000\n",
            "Probability of state |011⟩: 0.2500\n",
            "Probability of state |100⟩: 0.2500\n",
            "Probability of state |101⟩: 0.0000\n",
            "Probability of state |110⟩: 0.0000\n",
            "Probability of state |111⟩: 0.2500\n",
            "Final collapsed state: |011⟩\n",
            "\n",
            "\n",
            "Qubit 0: X -> H -> CNOT(control)\n",
            "Qubit 1: CNOT(target) -> X -> H -> CNOT(control)\n",
            "Qubit 2: CNOT(target) -> X -> H -> CNOT(control)\n",
            "Qubit 3: CNOT(target)\n",
            "Probability of state |0000⟩: 0.1250\n",
            "Probability of state |0001⟩: 0.0000\n",
            "Probability of state |0010⟩: 0.0000\n",
            "Probability of state |0011⟩: 0.1250\n",
            "Probability of state |0100⟩: 0.1250\n",
            "Probability of state |0101⟩: 0.0000\n",
            "Probability of state |0110⟩: 0.0000\n",
            "Probability of state |0111⟩: 0.1250\n",
            "Probability of state |1000⟩: 0.1250\n",
            "Probability of state |1001⟩: 0.0000\n",
            "Probability of state |1010⟩: 0.0000\n",
            "Probability of state |1011⟩: 0.1250\n",
            "Probability of state |1100⟩: 0.1250\n",
            "Probability of state |1101⟩: 0.0000\n",
            "Probability of state |1110⟩: 0.0000\n",
            "Probability of state |1111⟩: 0.1250\n",
            "Final collapsed state: |0100⟩\n",
            "\n",
            "\n",
            "Qubit 0: X -> H -> CNOT(control)\n",
            "Qubit 1: CNOT(target) -> X -> H -> CNOT(control)\n",
            "Qubit 2: CNOT(target) -> X -> H -> CNOT(control)\n",
            "Qubit 3: CNOT(target) -> X -> H -> CNOT(control)\n",
            "Qubit 4: CNOT(target)\n",
            "Probability of state |00000⟩: 0.0625\n",
            "Probability of state |00001⟩: 0.0000\n",
            "Probability of state |00010⟩: 0.0000\n",
            "Probability of state |00011⟩: 0.0625\n",
            "Probability of state |00100⟩: 0.0625\n",
            "Probability of state |00101⟩: 0.0000\n",
            "Probability of state |00110⟩: 0.0000\n",
            "Probability of state |00111⟩: 0.0625\n",
            "Probability of state |01000⟩: 0.0625\n",
            "Probability of state |01001⟩: 0.0000\n",
            "Probability of state |01010⟩: 0.0000\n",
            "Probability of state |01011⟩: 0.0625\n",
            "Probability of state |01100⟩: 0.0625\n",
            "Probability of state |01101⟩: 0.0000\n",
            "Probability of state |01110⟩: 0.0000\n",
            "Probability of state |01111⟩: 0.0625\n",
            "Probability of state |10000⟩: 0.0625\n",
            "Probability of state |10001⟩: 0.0000\n",
            "Probability of state |10010⟩: 0.0000\n",
            "Probability of state |10011⟩: 0.0625\n",
            "Probability of state |10100⟩: 0.0625\n",
            "Probability of state |10101⟩: 0.0000\n",
            "Probability of state |10110⟩: 0.0000\n",
            "Probability of state |10111⟩: 0.0625\n",
            "Probability of state |11000⟩: 0.0625\n",
            "Probability of state |11001⟩: 0.0000\n",
            "Probability of state |11010⟩: 0.0000\n",
            "Probability of state |11011⟩: 0.0625\n",
            "Probability of state |11100⟩: 0.0625\n",
            "Probability of state |11101⟩: 0.0000\n",
            "Probability of state |11110⟩: 0.0000\n",
            "Probability of state |11111⟩: 0.0625\n",
            "Final collapsed state: |11011⟩\n",
            "\n",
            "\n"
          ]
        }
      ]
    }
  ]
}